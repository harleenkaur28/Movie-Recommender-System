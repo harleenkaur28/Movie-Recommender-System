{
 "cells": [
  {
   "cell_type": "code",
   "execution_count": null,
   "id": "1ff0504e",
   "metadata": {},
   "outputs": [],
   "source": [
    "import numpy as np\n",
    "import pandas as pd"
   ]
  },
  {
   "cell_type": "code",
   "execution_count": null,
   "id": "a8b54530",
   "metadata": {},
   "outputs": [],
   "source": [
    "movies= pd.read_csv('tmdb_5000_movies.csv')\n",
    "credits= pd.read_csv('tmdb_5000_credits.csv')"
   ]
  },
  {
   "cell_type": "code",
   "execution_count": null,
   "id": "bda4de95",
   "metadata": {},
   "outputs": [],
   "source": [
    "print(movies.shape, credits.shape)"
   ]
  },
  {
   "cell_type": "code",
   "execution_count": null,
   "id": "4999fcdd",
   "metadata": {},
   "outputs": [],
   "source": [
    "movies.head(1)"
   ]
  },
  {
   "cell_type": "code",
   "execution_count": null,
   "id": "8b125ca0",
   "metadata": {},
   "outputs": [],
   "source": [
    "credits.head(1)"
   ]
  },
  {
   "cell_type": "code",
   "execution_count": null,
   "id": "3b621618",
   "metadata": {},
   "outputs": [],
   "source": [
    "movies=movies.merge(credits, on='title')"
   ]
  },
  {
   "cell_type": "code",
   "execution_count": null,
   "id": "aac44d96",
   "metadata": {},
   "outputs": [],
   "source": [
    "movies.shape"
   ]
  },
  {
   "cell_type": "code",
   "execution_count": null,
   "id": "28491c90",
   "metadata": {},
   "outputs": [],
   "source": [
    "movies.head(1)"
   ]
  },
  {
   "cell_type": "markdown",
   "id": "178c239a",
   "metadata": {},
   "source": [
    "## Data Preprocessing"
   ]
  },
  {
   "cell_type": "code",
   "execution_count": null,
   "id": "1491c5fa",
   "metadata": {},
   "outputs": [],
   "source": [
    "movies.columns"
   ]
  },
  {
   "cell_type": "code",
   "execution_count": null,
   "id": "f582db65",
   "metadata": {},
   "outputs": [],
   "source": [
    "column_list=['budget','original_language','homepage','original_title','production_companies','production_countries', 'revenue','spoken_languages', 'status','tagline', 'vote_average',\n",
    "       'vote_count', 'id','tagline','release_date','runtime','popularity' ]\n",
    "movies.drop(columns=column_list, inplace=True)"
   ]
  },
  {
   "cell_type": "code",
   "execution_count": null,
   "id": "8c6e83bd",
   "metadata": {},
   "outputs": [],
   "source": [
    "movies.shape"
   ]
  },
  {
   "cell_type": "code",
   "execution_count": null,
   "id": "e6047e0c",
   "metadata": {},
   "outputs": [],
   "source": [
    "movies.head(1)"
   ]
  },
  {
   "cell_type": "code",
   "execution_count": null,
   "id": "457af9ec",
   "metadata": {},
   "outputs": [],
   "source": [
    "movies.isnull().sum()"
   ]
  },
  {
   "cell_type": "code",
   "execution_count": null,
   "id": "458f5702",
   "metadata": {},
   "outputs": [],
   "source": [
    "movies.dropna(inplace=True, axis=0)"
   ]
  },
  {
   "cell_type": "code",
   "execution_count": null,
   "id": "ed60fe2e",
   "metadata": {},
   "outputs": [],
   "source": [
    "movies.isnull().sum()"
   ]
  },
  {
   "cell_type": "code",
   "execution_count": null,
   "id": "eb8412d6",
   "metadata": {},
   "outputs": [],
   "source": [
    "movies.duplicated().sum()"
   ]
  },
  {
   "cell_type": "code",
   "execution_count": null,
   "id": "1e2f0def",
   "metadata": {},
   "outputs": [],
   "source": [
    "movies.shape"
   ]
  },
  {
   "cell_type": "code",
   "execution_count": null,
   "id": "02f6404d",
   "metadata": {},
   "outputs": [],
   "source": [
    "movies.iloc[0].genres"
   ]
  },
  {
   "cell_type": "code",
   "execution_count": null,
   "id": "ca1d909b",
   "metadata": {},
   "outputs": [],
   "source": [
    "#columns like genre and keywords are strings and need to be converted to lists for preprocessing\n",
    "import ast\n",
    "def convert(obj):\n",
    "    l=[]\n",
    "    for i in ast.literal_eval(obj):\n",
    "       l.append(i['name'])\n",
    "    return l"
   ]
  },
  {
   "cell_type": "code",
   "execution_count": null,
   "id": "783f7a1e",
   "metadata": {},
   "outputs": [],
   "source": [
    "movies['genres']=movies['genres'].apply(convert)\n",
    "movies['keywords']=movies['keywords'].apply(convert)"
   ]
  },
  {
   "cell_type": "code",
   "execution_count": null,
   "id": "e7174e35",
   "metadata": {},
   "outputs": [],
   "source": [
    "movies.head()"
   ]
  },
  {
   "cell_type": "code",
   "execution_count": null,
   "id": "67df096c",
   "metadata": {},
   "outputs": [],
   "source": [
    "movies.iloc[0]['crew']"
   ]
  },
  {
   "cell_type": "code",
   "execution_count": null,
   "id": "8c1bb568",
   "metadata": {},
   "outputs": [],
   "source": [
    "#Taking only the top 5 members from the cast\n",
    "def convert_cast(obj):\n",
    "    l=[]\n",
    "    count=0\n",
    "    for i in ast.literal_eval(obj):\n",
    "        if count<5:\n",
    "            l.append(i['name'])\n",
    "            count+=1\n",
    "        else:\n",
    "            break\n",
    "    return l\n",
    "        "
   ]
  },
  {
   "cell_type": "code",
   "execution_count": null,
   "id": "f5faec2b",
   "metadata": {},
   "outputs": [],
   "source": [
    "#We only require director's name from the crew data\n",
    "def convert_crew(obj):\n",
    "    l=[]\n",
    "    for i in ast.literal_eval(obj):\n",
    "        if i['job']=='Director':\n",
    "            l.append(i['name'])\n",
    "        else:\n",
    "            continue\n",
    "    return l\n",
    "        "
   ]
  },
  {
   "cell_type": "code",
   "execution_count": null,
   "id": "bb64ce08",
   "metadata": {},
   "outputs": [],
   "source": [
    "movies['cast']=movies['cast'].apply(convert_cast)\n",
    "movies['crew']=movies['crew'].apply(convert_crew)"
   ]
  },
  {
   "cell_type": "code",
   "execution_count": null,
   "id": "0c039d0f",
   "metadata": {},
   "outputs": [],
   "source": [
    "movies['overview']=movies['overview'].apply(lambda x : x.split())"
   ]
  },
  {
   "cell_type": "code",
   "execution_count": null,
   "id": "4f4c06e4",
   "metadata": {},
   "outputs": [],
   "source": [
    "movies['genres']=movies['genres'].apply(lambda x: [i.replace(\" \", \"\") for i in x])\n",
    "movies['keywords']=movies['keywords'].apply(lambda x: [i.replace(\" \", \"\") for i in x])\n",
    "movies['cast']=movies['cast'].apply(lambda x: [i.replace(\" \", \"\") for i in x])\n",
    "movies['crew']=movies['crew'].apply(lambda x: [i.replace(\" \", \"\") for i in x])\n"
   ]
  },
  {
   "cell_type": "code",
   "execution_count": null,
   "id": "d3c1d8da",
   "metadata": {},
   "outputs": [],
   "source": [
    "movies.head()"
   ]
  },
  {
   "cell_type": "code",
   "execution_count": null,
   "id": "92270cb4",
   "metadata": {},
   "outputs": [],
   "source": [
    "#Creating a tags columns which contains all the relevant information about the movie\n",
    "movies['tags']=movies['overview']+ movies['genres']+ movies['keywords']+movies['cast']+ movies['crew']"
   ]
  },
  {
   "cell_type": "code",
   "execution_count": null,
   "id": "f2389824",
   "metadata": {},
   "outputs": [],
   "source": [
    "movies.head()"
   ]
  },
  {
   "cell_type": "code",
   "execution_count": null,
   "id": "f16b85db",
   "metadata": {},
   "outputs": [],
   "source": [
    "movies.drop(columns=['overview','genres', 'keywords', 'cast', 'crew'], inplace=True )"
   ]
  },
  {
   "cell_type": "code",
   "execution_count": null,
   "id": "4592a8a1",
   "metadata": {},
   "outputs": [],
   "source": [
    "movies.head()"
   ]
  },
  {
   "cell_type": "code",
   "execution_count": null,
   "id": "30b23856",
   "metadata": {},
   "outputs": [],
   "source": [
    "#converting the list of words to strings\n",
    "movies['tags']=movies['tags'].apply(lambda x: \" \".join(x))\n",
    "movies['tags']= movies['tags'].apply(lambda x:x.lower())"
   ]
  },
  {
   "cell_type": "code",
   "execution_count": null,
   "id": "a612c51b",
   "metadata": {},
   "outputs": [],
   "source": [
    "#applying lemmatizer to the data so that words like activity and activities are treated as same\n",
    "\n",
    "#[activity, activities]\n",
    "#[activity, activity]\n",
    "\n",
    "#Stemming can be used too"
   ]
  },
  {
   "cell_type": "code",
   "execution_count": null,
   "id": "e83e7dee",
   "metadata": {},
   "outputs": [],
   "source": [
    "import nltk\n",
    "from nltk.stem.porter import PorterStemmer\n",
    "ps=PorterStemmer()"
   ]
  },
  {
   "cell_type": "code",
   "execution_count": null,
   "id": "2df23db6",
   "metadata": {},
   "outputs": [],
   "source": [
    "def stem(text):\n",
    "    y=[]\n",
    "    for i in text.split():\n",
    "        y.append(ps.stem(i))\n",
    "    return \" \".join(y)   #returning a stemmed string"
   ]
  },
  {
   "cell_type": "code",
   "execution_count": null,
   "id": "6b98d39d",
   "metadata": {},
   "outputs": [],
   "source": [
    "stem('activities')"
   ]
  },
  {
   "cell_type": "code",
   "execution_count": null,
   "id": "03b8df0d",
   "metadata": {},
   "outputs": [],
   "source": [
    "from nltk.stem import WordNetLemmatizer\n",
    " \n",
    "lemmatizer = WordNetLemmatizer()"
   ]
  },
  {
   "cell_type": "code",
   "execution_count": null,
   "id": "0e2d4881",
   "metadata": {},
   "outputs": [],
   "source": [
    "lemmatizer.lemmatize(\"to\")"
   ]
  },
  {
   "cell_type": "code",
   "execution_count": null,
   "id": "50ab83a6",
   "metadata": {},
   "outputs": [],
   "source": [
    "def lemmatize(text):\n",
    "    y=[]\n",
    "    for i in text.split():\n",
    "        y.append(lemmatizer.lemmatize(i))\n",
    "    return \" \".join(y)"
   ]
  },
  {
   "cell_type": "code",
   "execution_count": null,
   "id": "29e77f02",
   "metadata": {},
   "outputs": [],
   "source": [
    "movies['tags']=movies['tags'].apply(lemmatize)"
   ]
  },
  {
   "cell_type": "code",
   "execution_count": null,
   "id": "99aa7722",
   "metadata": {},
   "outputs": [],
   "source": [
    "movies.head()"
   ]
  },
  {
   "cell_type": "markdown",
   "id": "fe8f15c4",
   "metadata": {},
   "source": [
    "## Vectorisation"
   ]
  },
  {
   "cell_type": "markdown",
   "id": "79b6a9f3",
   "metadata": {},
   "source": [
    "text vectorisation: converting texts to vectors"
   ]
  },
  {
   "cell_type": "code",
   "execution_count": null,
   "id": "53f3c1f2",
   "metadata": {},
   "outputs": [],
   "source": [
    "from sklearn.feature_extraction.text import CountVectorizer\n",
    "#consider the 50000 most used words and exclude stop words\n",
    "cv= CountVectorizer(max_features= 5000, stop_words='english')"
   ]
  },
  {
   "cell_type": "code",
   "execution_count": null,
   "id": "04187188",
   "metadata": {},
   "outputs": [],
   "source": [
    "vectors=cv.fit_transform(movies['tags']).toarray()  #converting a sparse matrix to numpy array"
   ]
  },
  {
   "cell_type": "code",
   "execution_count": null,
   "id": "7713e512",
   "metadata": {},
   "outputs": [],
   "source": [
    "vectors"
   ]
  },
  {
   "cell_type": "code",
   "execution_count": null,
   "id": "ad461dad",
   "metadata": {},
   "outputs": [],
   "source": [
    "vectors.shape   "
   ]
  },
  {
   "cell_type": "code",
   "execution_count": null,
   "id": "ae39c85b",
   "metadata": {},
   "outputs": [],
   "source": [
    "print(cv.get_feature_names_out())  #printing the most common words"
   ]
  },
  {
   "cell_type": "markdown",
   "id": "15dd6a78",
   "metadata": {},
   "source": [
    "## Calculating cosine similarity between vectors"
   ]
  },
  {
   "cell_type": "markdown",
   "id": "d036a738",
   "metadata": {},
   "source": [
    "using cosine similarity and distance since euclidean distance is not a good measure in higher dimensionality spaces"
   ]
  },
  {
   "cell_type": "code",
   "execution_count": null,
   "id": "79112caa",
   "metadata": {},
   "outputs": [],
   "source": [
    "from sklearn.metrics.pairwise import cosine_similarity"
   ]
  },
  {
   "cell_type": "code",
   "execution_count": null,
   "id": "4eae5e2d",
   "metadata": {},
   "outputs": [],
   "source": [
    "#calculating the similarity between each movie\n",
    "similarity = cosine_similarity(vectors)\n",
    "print(similarity[0])"
   ]
  },
  {
   "cell_type": "code",
   "execution_count": null,
   "id": "699c6bfc",
   "metadata": {},
   "outputs": [],
   "source": [
    "similarity.shape"
   ]
  },
  {
   "cell_type": "code",
   "execution_count": null,
   "id": "54746799",
   "metadata": {},
   "outputs": [],
   "source": [
    "#sorting based on the distances, enumerate helps in keeping the index position\n",
    "sorted(list(enumerate(similarity[0])), reverse=True, key= lambda x:x[1])[1:6]"
   ]
  },
  {
   "cell_type": "markdown",
   "id": "c1681614",
   "metadata": {},
   "source": [
    "## Function to Recommend Movies"
   ]
  },
  {
   "cell_type": "code",
   "execution_count": null,
   "id": "b266c4ff",
   "metadata": {},
   "outputs": [],
   "source": [
    "def recommend(movie):\n",
    "    movie_index= movies[movies['title']==movie].index[0]\n",
    "    distances= similarity[movie_index]\n",
    "    movies_list=sorted(list(enumerate(distances)), reverse=True, key= lambda x:x[1])[1:8]\n",
    "    for i in movies_list:\n",
    "        print(movies.iloc[i[0]].title, i[1])"
   ]
  },
  {
   "cell_type": "code",
   "execution_count": null,
   "id": "42738a15",
   "metadata": {},
   "outputs": [],
   "source": [
    "def recommend_genre(genre, movies_df):\n",
    "    filtered_movies = movies_df[movies_df['tags'].apply(lambda tags: genre in tags)]\n",
    "    sampled_movies = filtered_movies.sample(n=min(9, len(filtered_movies)), random_state=42)\n",
    "    recommended = []\n",
    "    count=0\n",
    "\n",
    "    for index, row in sampled_movies.iterrows():\n",
    "        if count<8:\n",
    "            movie_id = row['movie_id']\n",
    "            recommended.append(row['title'])\n",
    "            print(row['title'],movie_id)\n",
    "            count+=1\n",
    "        else:\n",
    "            break\n",
    "    "
   ]
  },
  {
   "cell_type": "code",
   "execution_count": null,
   "id": "26d90d32",
   "metadata": {},
   "outputs": [],
   "source": [
    "print(\"Recommendations based on Genre \\n\")\n",
    "recommend_genre('action', movies)"
   ]
  },
  {
   "cell_type": "code",
   "execution_count": null,
   "id": "10610b09",
   "metadata": {},
   "outputs": [],
   "source": [
    "print(\"Recommendations and Similarities\\n\")\n",
    "recommend('Avatar')    #testing a random movie"
   ]
  },
  {
   "cell_type": "markdown",
   "id": "af7448a6",
   "metadata": {},
   "source": [
    "## Saving the Data"
   ]
  },
  {
   "cell_type": "code",
   "execution_count": null,
   "id": "2e67c4c2",
   "metadata": {},
   "outputs": [],
   "source": [
    "import joblib\n",
    "\n",
    "joblib.dump(movies.to_dict(), 'movies.pkl')\n",
    "joblib.dump(similarity, 'similarity.pkl')"
   ]
  },
  {
   "cell_type": "code",
   "execution_count": null,
   "id": "ffdf58a3",
   "metadata": {},
   "outputs": [],
   "source": [
    "print(pd.__version__)\n",
    "print(np.__version__)\n",
    "print(joblib.__version__)"
   ]
  }
 ],
 "metadata": {
  "kernelspec": {
   "display_name": "Python 3 (ipykernel)",
   "language": "python",
   "name": "python3"
  },
  "language_info": {
   "codemirror_mode": {
    "name": "ipython",
    "version": 3
   },
   "file_extension": ".py",
   "mimetype": "text/x-python",
   "name": "python",
   "nbconvert_exporter": "python",
   "pygments_lexer": "ipython3",
   "version": "3.11.5"
  }
 },
 "nbformat": 4,
 "nbformat_minor": 5
}
